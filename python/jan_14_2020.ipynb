{
 "cells": [
  {
   "cell_type": "markdown",
   "metadata": {},
   "source": [
    "January 14th 2020 | dailycodingchallenges.com\n",
    "\n",
    "Given a list of numbers and k, return if two numbers from the list add up to k\n",
    "\n",
    "For example, given 10 15 3 7 and k of 17 you should get true!"
   ]
  },
  {
   "cell_type": "code",
   "execution_count": 1,
   "metadata": {},
   "outputs": [],
   "source": [
    "test_vector = [10,15,3,7]"
   ]
  },
  {
   "cell_type": "code",
   "execution_count": 2,
   "metadata": {},
   "outputs": [],
   "source": [
    "k = 7"
   ]
  },
  {
   "cell_type": "code",
   "execution_count": 18,
   "metadata": {},
   "outputs": [
    {
     "name": "stdout",
     "output_type": "stream",
     "text": [
      "Does Not Exist!\n"
     ]
    }
   ],
   "source": [
    "empty = []\n",
    "key = 1\n",
    "\n",
    "for i in test_vector:\n",
    "    for j in test_vector:\n",
    "        empty.append(i + j)\n",
    "if(key in empty):\n",
    "    print(\"Key Exists!\")\n",
    "else:\n",
    "    print(\"Does Not Exist!\")\n"
   ]
  },
  {
   "cell_type": "code",
   "execution_count": 21,
   "metadata": {},
   "outputs": [],
   "source": [
    "def jan_14_2020(vector,key):\n",
    "    for i in vector:\n",
    "        for j in vector:\n",
    "            empty.append(i + j)\n",
    "    if(key in empty):\n",
    "        print(\"Key Exists!\")\n",
    "    else:\n",
    "        print(\"Does Not Exist!\")"
   ]
  },
  {
   "cell_type": "code",
   "execution_count": 24,
   "metadata": {},
   "outputs": [
    {
     "name": "stdout",
     "output_type": "stream",
     "text": [
      "Key Exists!\n"
     ]
    }
   ],
   "source": [
    "jan_14_2020(test_vector, 18)"
   ]
  },
  {
   "cell_type": "code",
   "execution_count": null,
   "metadata": {},
   "outputs": [],
   "source": []
  }
 ],
 "metadata": {
  "kernelspec": {
   "display_name": "Python 3",
   "language": "python",
   "name": "python3"
  },
  "language_info": {
   "codemirror_mode": {
    "name": "ipython",
    "version": 3
   },
   "file_extension": ".py",
   "mimetype": "text/x-python",
   "name": "python",
   "nbconvert_exporter": "python",
   "pygments_lexer": "ipython3",
   "version": "3.7.3"
  }
 },
 "nbformat": 4,
 "nbformat_minor": 2
}
