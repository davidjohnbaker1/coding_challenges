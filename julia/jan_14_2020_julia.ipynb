{
 "cells": [
  {
   "cell_type": "markdown",
   "metadata": {},
   "source": [
    "January 14th 2020 | dailycodingchallenges.com\n",
    "\n",
    "Given a list of numbers and k, return if two numbers from the list add up to k\n",
    "\n",
    "For example, given 10 15 3 7 and k of 17 you should get true!"
   ]
  },
  {
   "cell_type": "code",
   "execution_count": 1,
   "metadata": {},
   "outputs": [
    {
     "data": {
      "text/plain": [
       "4-element Array{Int32,1}:\n",
       " 10\n",
       " 15\n",
       "  3\n",
       "  7"
      ]
     },
     "execution_count": 1,
     "metadata": {},
     "output_type": "execute_result"
    }
   ],
   "source": [
    "vector = [10,15,3,7]"
   ]
  },
  {
   "cell_type": "code",
   "execution_count": 2,
   "metadata": {},
   "outputs": [
    {
     "data": {
      "text/plain": [
       "17"
      ]
     },
     "execution_count": 2,
     "metadata": {},
     "output_type": "execute_result"
    }
   ],
   "source": [
    "test = 17"
   ]
  },
  {
   "cell_type": "code",
   "execution_count": 14,
   "metadata": {},
   "outputs": [
    {
     "name": "stdout",
     "output_type": "stream",
     "text": [
      "It's There\n"
     ]
    }
   ],
   "source": [
    "vector = [10,15,3,7]\n",
    "key = 17\n",
    "\n",
    "empty = []\n",
    "for i in vector\n",
    "    for j in vector\n",
    "        append!(empty, i + j)\n",
    "    end\n",
    "end\n",
    "\n",
    "if key in empty\n",
    "    println(\"It's There\")\n",
    "else\n",
    "    println(\"It's not there!\")\n",
    "println(empty)\n",
    "end"
   ]
  },
  {
   "cell_type": "code",
   "execution_count": 17,
   "metadata": {},
   "outputs": [
    {
     "name": "stdout",
     "output_type": "stream",
     "text": [
      "It's There\n"
     ]
    }
   ],
   "source": [
    "function jan_14_2020(vector, key)\n",
    "    for i in vector\n",
    "        for j in vector\n",
    "            append!(empty, i + j)\n",
    "        end\n",
    "    end\n",
    "    if key in empty\n",
    "        println(\"It's There\")\n",
    "    else\n",
    "        println(\"It's not there!\")\n",
    "    println(empty)\n",
    "    end\n",
    "end\n",
    "\n"
   ]
  },
  {
   "cell_type": "code",
   "execution_count": 18,
   "metadata": {},
   "outputs": [
    {
     "name": "stdout",
     "output_type": "stream",
     "text": [
      "It's There\n"
     ]
    }
   ],
   "source": [
    "jan_14_2020(vector, key)"
   ]
  },
  {
   "cell_type": "code",
   "execution_count": null,
   "metadata": {},
   "outputs": [],
   "source": []
  }
 ],
 "metadata": {
  "kernelspec": {
   "display_name": "Julia 1.0.4",
   "language": "julia",
   "name": "julia-1.0"
  },
  "language_info": {
   "file_extension": ".jl",
   "mimetype": "application/julia",
   "name": "julia",
   "version": "1.0.4"
  }
 },
 "nbformat": 4,
 "nbformat_minor": 2
}
